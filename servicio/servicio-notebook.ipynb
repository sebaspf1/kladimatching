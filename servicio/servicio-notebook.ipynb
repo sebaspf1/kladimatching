{
 "cells": [
  {
   "cell_type": "code",
   "execution_count": 1,
   "id": "aac33ded-8a18-4379-93c1-a22c1a1fd320",
   "metadata": {},
   "outputs": [
    {
     "name": "stdout",
     "output_type": "stream",
     "text": [
      "Collecting psycopg2\n",
      "  Using cached psycopg2-2.9.9-cp310-cp310-linux_x86_64.whl\n",
      "Installing collected packages: psycopg2\n",
      "Successfully installed psycopg2-2.9.9\n",
      "Note: you may need to restart the kernel to use updated packages.\n"
     ]
    }
   ],
   "source": [
    "pip install psycopg2"
   ]
  },
  {
   "cell_type": "code",
   "execution_count": 1,
   "id": "36c7a781-ea87-47a5-ba6a-b48fbc00f549",
   "metadata": {},
   "outputs": [],
   "source": [
    "import json\n",
    "import psycopg2\n",
    "import psycopg2.extras\n",
    "import boto3\n",
    "import random\n",
    "import time\n",
    "\n",
    "bedrock = boto3.client('bedrock-runtime')"
   ]
  },
  {
   "cell_type": "code",
   "execution_count": 2,
   "id": "fc60fb63-27ff-4688-b8b7-334abbd25b00",
   "metadata": {},
   "outputs": [
    {
     "ename": "AttributeError",
     "evalue": "'BedrockRuntime' object has no attribute 'list_foundation_models'",
     "output_type": "error",
     "traceback": [
      "\u001b[0;31m---------------------------------------------------------------------------\u001b[0m",
      "\u001b[0;31mAttributeError\u001b[0m                            Traceback (most recent call last)",
      "Cell \u001b[0;32mIn[2], line 1\u001b[0m\n\u001b[0;32m----> 1\u001b[0m [models[\u001b[38;5;124m'\u001b[39m\u001b[38;5;124mmodelId\u001b[39m\u001b[38;5;124m'\u001b[39m] \u001b[38;5;28;01mfor\u001b[39;00m models \u001b[38;5;129;01min\u001b[39;00m \u001b[43mbedrock\u001b[49m\u001b[38;5;241;43m.\u001b[39;49m\u001b[43mlist_foundation_models\u001b[49m()[\u001b[38;5;124m'\u001b[39m\u001b[38;5;124mmodelSummaries\u001b[39m\u001b[38;5;124m'\u001b[39m]]\n",
      "File \u001b[0;32m/opt/conda/lib/python3.10/site-packages/botocore/client.py:906\u001b[0m, in \u001b[0;36mBaseClient.__getattr__\u001b[0;34m(self, item)\u001b[0m\n\u001b[1;32m    903\u001b[0m \u001b[38;5;28;01mif\u001b[39;00m event_response \u001b[38;5;129;01mis\u001b[39;00m \u001b[38;5;129;01mnot\u001b[39;00m \u001b[38;5;28;01mNone\u001b[39;00m:\n\u001b[1;32m    904\u001b[0m     \u001b[38;5;28;01mreturn\u001b[39;00m event_response\n\u001b[0;32m--> 906\u001b[0m \u001b[38;5;28;01mraise\u001b[39;00m \u001b[38;5;167;01mAttributeError\u001b[39;00m(\n\u001b[1;32m    907\u001b[0m     \u001b[38;5;124mf\u001b[39m\u001b[38;5;124m\"\u001b[39m\u001b[38;5;124m'\u001b[39m\u001b[38;5;132;01m{\u001b[39;00m\u001b[38;5;28mself\u001b[39m\u001b[38;5;241m.\u001b[39m\u001b[38;5;18m__class__\u001b[39m\u001b[38;5;241m.\u001b[39m\u001b[38;5;18m__name__\u001b[39m\u001b[38;5;132;01m}\u001b[39;00m\u001b[38;5;124m'\u001b[39m\u001b[38;5;124m object has no attribute \u001b[39m\u001b[38;5;124m'\u001b[39m\u001b[38;5;132;01m{\u001b[39;00mitem\u001b[38;5;132;01m}\u001b[39;00m\u001b[38;5;124m'\u001b[39m\u001b[38;5;124m\"\u001b[39m\n\u001b[1;32m    908\u001b[0m )\n",
      "\u001b[0;31mAttributeError\u001b[0m: 'BedrockRuntime' object has no attribute 'list_foundation_models'"
     ]
    }
   ],
   "source": [
    "[models['modelId'] for models in bedrock.list_foundation_models()['modelSummaries']]"
   ]
  },
  {
   "cell_type": "code",
   "execution_count": 2,
   "id": "1e35153b-504a-4c2a-af75-7578ce2aa8dc",
   "metadata": {},
   "outputs": [
    {
     "name": "stdout",
     "output_type": "stream",
     "text": [
      "(\"Cortador azulejo 35' (90 cm) gran formato c/maletín, Expert\",)\n",
      "('Lija de agua grano 100 de carburo de silicio, Truper',)\n",
      "(\"Broca HSS 11/64' Trugold para metal, Truper Expert\",)\n",
      "(\"Carda copa 5' alambre ondulado fino, eje 5/8'-11, Truper\",)\n",
      "(\"Caja para herramienta de 20' industrial, broches metálicos\",)\n",
      "(\"Azadón para niños con mango de 42', Truper\",)\n",
      "(\"Disco Tipo 41 de 7' x 1.8 mm corte fino acero inox, Sable\",)\n",
      "(\"Cortador azulejo 47' (120 cm) gran formato maletín, Expert\",)\n",
      "('Bolsa con 2 carbones de repuesto para CM-14N, Truper',)\n",
      "('Línea de vida 1.8m cinta políéster, absorbedor impacto, ANSI',)\n",
      "(\"Broca HSS 7/32' Trugold para metal, Truper Expert\",)\n",
      "(\"Broca HSS 27/64' Trugold para metal, Truper Expert\",)\n",
      "(\"Broca HSS 17/64' Trugold para metal, Truper Expert\",)\n",
      "(\"Pala redonda # 4 T-2000, mango largo 45', Truper\",)\n",
      "('Escalera de tijera tipo II 7 peldaños y bandeja, Truper',)\n",
      "(\"Caja para herramienta de 22' con compartimentos, Truper\",)\n",
      "(\"Bolsa c/2\\xa0abrazaderas\\xa0sin fin\\xa0# 10, 3/4 - 1-1/16', Truper\",)\n",
      "(\"Aspersor agrícola de 1' fundido en latón, Truper\",)\n",
      "('Casco de seguridad ala ancha, rojo, Truper',)\n",
      "('Bolsa con 2 carbones de repuesto para PULA-P, Truper',)\n"
     ]
    }
   ],
   "source": [
    "connection = psycopg2.connect(dbname='******', user='*****', password='*****', host='*****', port='*****', sslmode='*****')\n",
    "\n",
    "query = \"SELECT nombre FROM public.articulos_dev__articulos WHERE empresa_id = 279 ORDER BY id ASC LIMIT 20\"\n",
    "cursor = connection.cursor()\n",
    "cursor.execute(query)\n",
    "results = cursor.fetchall()\n",
    "for item in results:\n",
    "    print(item)\n",
    "cursor.close()"
   ]
  },
  {
   "cell_type": "code",
   "execution_count": 3,
   "id": "4067cb53-96c6-4e8e-8358-19434bbb591a",
   "metadata": {},
   "outputs": [],
   "source": [
    "def invoke(item_1, item_2):\n",
    "    input_text = f\"\"\"You are going to play the role of an assistant at a hardware store and you are going to help a\n",
    "customer find the item that they are looking for. You asked you co-worker to bring you the item that most resembles the\n",
    "customer's description. Now, you must determine if they brought the correct item or not.\n",
    "\n",
    "First, you must determine what type of item the customer is looking for based on the description. For example, if the\n",
    "customer asks for \"Abrazadera #10 (19-27mm) 3/4 - 1-1/16 c/10pz AB10 Fiero,\" you know they are looking for an\n",
    "\"abrazadera\".\n",
    "\n",
    "If the customer mentions any measurement/caliber/length/gauge, you must also make sure that they are the same. In the\n",
    "past example, you should make sure the item is #10 and 3/4 - 1 1/16 inches, or 19-27 mm.\n",
    "\n",
    "Lastly, if the customer mentions a count, you must also make sure to pick an item that contains the same count. The\n",
    "past examples mentions \"10 pz,\" so make sure to give a customer an item with 10 pieces.\n",
    "\n",
    "The following is an example of products that are not equivalent:\n",
    "\"Remaches con espiga 6.4x15.9mm bolsa con 50 pzas\" and \"Remache diam 3/16 agarre 1/2 c/50pz R68B Fiero\"\n",
    "Notice how in this example, the type of item is the same, but the size is different.\n",
    "\n",
    "The following is an example of products that are equivalent:\n",
    "\"Rotomartillo 1/2' 550 W Pretul\" and \"Rotomartillo 1/2 550w ROTO1/2P6 Pretul\"\n",
    "\n",
    "The customer is looking for the item with the following description:\n",
    "\"{item_1}\"\n",
    "\n",
    "Your co-worker brought the following item:\n",
    "\"{item_2}\"\n",
    "\n",
    "Are they the same item? Respond with a confidence score (0.0 - 1.0) that represents how likely it is that the item is\n",
    "the same as the item that the customer is looking for.\"\"\"\n",
    "\n",
    "    body = json.dumps({\"inputText\": input_text, \"textGenerationConfig\": {\"maxTokenCount\": 10}})\n",
    "    modelId = \"amazon.titan-text-premier-v1:0\"\n",
    "    accept = \"application/json\"\n",
    "    contentType = \"application/json\"\n",
    "\n",
    "    try:\n",
    "        response = bedrock.invoke_model(body=body, modelId=modelId, accept=accept, contentType=contentType)\n",
    "    except:\n",
    "        time.sleep(5)\n",
    "        response = bedrock.invoke_model(body=body, modelId=modelId, accept=accept, contentType=contentType)\n",
    "    responsebody = json.loads(response.get(\"body\").read())\n",
    "    return responsebody.get(\"results\")[0].get(\"outputText\")\n",
    "\n",
    "def query_clave(claves):\n",
    "    if claves == []:\n",
    "        return []\n",
    "\n",
    "    ids = ''\n",
    "    for clave in claves:\n",
    "        ids += f\"'{clave}',\"\n",
    "    ids = ids.removesuffix(',')\n",
    "    query = f\"\"\"SELECT\n",
    "        articulos.nombre,\n",
    "        STRING_AGG(claves.clave, ', ') AS claves\n",
    "    FROM\n",
    "        public.articulos_dev__articulos AS articulos\n",
    "    LEFT JOIN\n",
    "        public.articulos_dev__articulo_clave AS claves\n",
    "    ON\n",
    "        articulos.id = claves.articulo_id\n",
    "    WHERE\n",
    "        articulos.empresa_id = 279\n",
    "    AND\n",
    "        claves.clave IN ({ids})\n",
    "    GROUP BY\n",
    "        articulos.nombre;\"\"\"\n",
    "\n",
    "    connection = psycopg2.connect(dbname='*****', user='*****', password='*****', host='*****', port='*****', sslmode='*****')\n",
    "    cursor = connection.cursor()\n",
    "    cursor.execute(query)\n",
    "    results = cursor.fetchall()\n",
    "    cursor.close()\n",
    "    return results\n",
    "\n",
    "def query_nombre(nombre):\n",
    "    query = f\"\"\"SELECT nombre\n",
    "    FROM public.articulos_dev__articulos\n",
    "    WHERE empresa_id = 279\n",
    "    AND difference(nombre, '{nombre}') > 2\n",
    "    ORDER BY levenshtein(nombre, '{nombre}')\n",
    "    LIMIT 5;\"\"\"\n",
    "\n",
    "    connection = psycopg2.connect(dbname='*****', user='*****', password='*****', host='*****', port='*****', sslmode='*****')\n",
    "    cursor = connection.cursor()\n",
    "    cursor.execute(query)\n",
    "    results = cursor.fetchall()\n",
    "    cursor.close()  \n",
    "    return results\n",
    "\n",
    "def buscar(nombre, claves=[]):\n",
    "    query_results = query_clave(claves)\n",
    "\n",
    "    if(query_results != []):\n",
    "        score = float(invoke(nombre, query_results[0][0]))\n",
    "        if score >= 0.8:\n",
    "            return {\"articulo\": query_results[0][0], \"resultado\": \"seguro\", \"score\": score}\n",
    "        if score >= 0.5:\n",
    "            return {\"articulo\": query_results[0][0], \"resultado\": \"probable\", \"score\": score}\n",
    "        return {\"articulo\": query_results[0][0], \"resultado\": \"vacio\", \"score\": score}\n",
    "\n",
    "    query_results = query_nombre(nombre)\n",
    "    if(query_results == []):\n",
    "        return {\"articulo\": \"vacio\", \"resultado\": \"vacio\", \"score\": 0.0}\n",
    "\n",
    "    max_score = 0.0\n",
    "    max_score_nombre = ''\n",
    "    for articulo in query_results:\n",
    "        score = float(invoke(nombre, articulo[0]))\n",
    "        if score > max_score:\n",
    "            max_score = score\n",
    "            max_score_nombre = articulo[0]\n",
    "    if max_score >= 0.9:\n",
    "        return {\"articulo\": max_score_nombre, \"resultado\": \"seguro\", \"score\": max_score}\n",
    "    if max_score >= 0.6:\n",
    "        return {\"articulo\": max_score_nombre, \"resultado\": \"probable\", \"score\": max_score}\n",
    "    return {\"articulo\": max_score_nombre, \"resultado\": \"vacio\", \"score\": max_score}"
   ]
  },
  {
   "cell_type": "code",
   "execution_count": 4,
   "id": "f3c7c763-15bb-4a3f-b52f-3c37a7f60fa5",
   "metadata": {},
   "outputs": [
    {
     "name": "stdout",
     "output_type": "stream",
     "text": [
      "{'articulo': 'Clavija y contacto de hule, bolsa con 2 pzas, Volteck', 'resultado': 'seguro', 'score': 1.0}\n"
     ]
    }
   ],
   "source": [
    "print(buscar(\"Clavija y contacto de hule, bolsa con 2 pzas, Volteck\"))"
   ]
  },
  {
   "cell_type": "code",
   "execution_count": null,
   "id": "6bb6fdc5-895d-4abe-8807-495c8233ae3c",
   "metadata": {},
   "outputs": [
    {
     "name": "stdout",
     "output_type": "stream",
     "text": [
      "0\n",
      "30\n",
      "60\n",
      "90\n",
      "120\n",
      "150\n",
      "180\n"
     ]
    }
   ],
   "source": [
    "with open(\"./data/claves-com.csv\", \"r\") as f:\n",
    "    items = f.read().split('\\n')\n",
    "items.pop(0)\n",
    "items.pop(0)\n",
    "items = list(map(lambda x: x.split(','), items))\n",
    "\n",
    "vis = []\n",
    "csv = 'INPUT,TRUPER,articulo,score,resultado,articulo,score,resultado\\n'\n",
    "for i in range(200):\n",
    "    if i % 30 == 0:\n",
    "        print(i)\n",
    "\n",
    "    random_index = random.randint(0, len(items) - 1)\n",
    "    while random_index in vis:\n",
    "        random_index = random.randint(0, len(items) - 1)\n",
    "    vis.append(random_index)\n",
    "\n",
    "    item_truper = items[random_index][1].replace(\"'\", \"''\")\n",
    "    item_nombre = items[random_index][3].replace(\"'\", \"''\")\n",
    "    item_claves = items[random_index][0].split(' ; ')\n",
    "\n",
    "    results_con_clave = buscar(item_nombre, item_claves)\n",
    "    results_sin_clave = buscar(item_nombre)\n",
    "\n",
    "    csv += f\"{item_nombre},{item_truper},{results_con_clave['articulo'].replace(',', ' ')},{results_con_clave['score']},{results_con_clave['resultado']},{results_sin_clave['articulo'].replace(',', ' ')},{results_sin_clave['score']},{results_sin_clave['resultado']}\\n\"\n",
    "\n",
    "with open(\"./data/busqueda.csv\", \"w+\") as f:\n",
    "    f.write(csv)\n",
    " \n",
    "print(\".\")"
   ]
  },
  {
   "cell_type": "code",
   "execution_count": 26,
   "id": "a36b004e-47ef-473b-9940-00590a735b12",
   "metadata": {},
   "outputs": [
    {
     "name": "stdout",
     "output_type": "stream",
     "text": [
      "INPUT,TRUPER,articulo,score,resultado,articulo,score,resultado\n",
      "Faja con tirantes ajust.s de malla extra grande faja-xlv tru,Faja ventilada con tirantes talla extra-grande,Faja lumbar de malla transpirable  talla XG  Truper,0.8,seguro,Faja con tirantes broche sencillo gde By Lack,1.0,seguro\n",
      "Carretilla 55 llanta ref bas/tub cat-55nd truper,Carretilla 5 ft3 angosta llanta neumatica reforzada,vacio,0.0,vacio,Carretilla 5 ft3 Imponchable  bastidor tubular  Truper,1.0,seguro\n",
      "Foco kripton rep p/lint 2aa 2xblist fo-li2aa truper,FOCO KRIPTON REP P/LINTERNA 2AA 2XBLIST,Rack giratorio para palas y bieldos  Truper,1.0,seguro,Rack giratorio para palas y bieldos  Truper,1.0,seguro\n",
      "Candado metal 30mm ll/trad g/corto laton caja CH30P Hermex,Candado de hierro 30mm gancho corto caja Hermex Basic,Candado de hierro color latón 30 mm  corto  caja  Basic,0.8,seguro,Candado metal 30mm ll/trad g/corto laton caja 16911 Dexter,1.0,seguro\n",
      "Llave p/tubo stilson 08 sti-8p pretul,Llave para tubo Stilson 8'' Pretul,Llave stilson 8' cuerpo de hierro maleable  Pretul,0.8,seguro,Llave para tanque de gas  Pretul,1.0,seguro\n",
      "Maneral tipo garrote 1/8 a 1/2 man-ga-1/2 truper,Maneral tipo garrote para machuelo  1/2'',Maneral tipo garrote para machuelo 1/2'  Truper,0.8,seguro,Maneral tipo garrote para machuelo 1/2'  Truper,1.0,seguro\n",
      "Recogedor basura plastico s/baston RECO9 Klintek,Recogedor de plastico,Recogedor de plástico  Klintek,0.8,seguro,Recogedor basura plastico tradicional Max Reynera,1.0,seguro\n",
      "Sierra p/mad. 40 dientes/carburo-8 1/4 st-840 truper,Disco sierra circular p/madera 8-1/4'' 40 dpp centro 5/8'',Disco sierra 8-1/4' para madera  40 dientes centro 5/8',0.95,seguro,Sierra p/mad. 40 dientes/carburo 7-1/4 TSB118515 Ingco,1.0,seguro\n",
      "Cortapernos 24 mango acero forjado cp-24x truper,Cortaperno 24'' cuchilla fabricada en acero al silicio,Cortapernos profesional de 24'  Truper,0.85,seguro,Cortapernos profesional de 24'  Truper,1.0,seguro\n",
      "Juego 33 dados 1/4  juda-33p pretul,Juego de dados cuadro 1/4 y 3/8'' 26 piezas Pretul,Juego de 14 dados para taladro  Pretul,1.0,seguro,Juego de 14 dados para taladro  Pretul,1.0,seguro\n",
      "Arbotante farol soportado de led arb-101l voltech,Arbotante farol soportado de LED 260 Lm,Arbotante de LED 8 W tipo farol soportado negro  Volteck,0.9,seguro,Arbotante de LED 8 W tipo vaso luz cálida  Volteck,1.0,seguro\n",
      "Llave manguera 013mm 1/2\"\" t-esfera laton LLE140L Foset,Llave de esfera de laton 140 gr entrada 1/2'' Foset,Llave de esfera  de latón  140 gr  entrada 1/2'  Foset,0.7,probable,Llave manguera 013mm 1/2\" t-esfera laton IP711 Coflex,1.0,seguro\n",
      "Grapa p/pistola 08mm 5/16 1000pz et-21-5/16 truper,Grapas para ET-21 5/16'' caja con 1000 piezas,Caja con 1000 grapas 5/16'corona 11.3 mm para ET-21  Truper,0.7,probable,Grapa aislada # 2 p/cable c/40pz gra001 kley,1.0,seguro\n",
      "Cautin tipo lapiz 030w CAU30P2 Pretul,Cautin tipo lapiz de 30 watts sin accesorios Pretul,Cautín 30 W tipo lápiz para trabajo ligero  Pretul,0.95,seguro,Cautin tipo lapiz 030w 577 Adir,1.0,seguro\n",
      "Cortador tubo mini cap 16mm cot-16 truper,Cortador de tubo de cobre hasta 5/8''(16 mm),vacio,0.0,vacio,Cortador anular de 15/16' x 1'  Truper,1.0,seguro\n",
      "Desarmador phill 5/16x6 mango transp dp-5/16x6tp pretul,Desarmador punta Phillips 5/16 x 6'' mango PVC Pretul,Desarmador de cruz 5/16 x 6' mango de PVC  Pretul,0.6,probable,Desarmador plano 5/16 x 6' mango de PVC  Pretul,1.0,seguro\n",
      "Bascula romana de resorte 100kg bas-100p pretul,Bascula romana de resorte de 100 kg Pretul,Báscula capacidad 100 kg romana de resorte  Pretul,1.0,seguro,Báscula mecánica para cocina 1 Kg  Pretul,1.0,seguro\n",
      "\n"
     ]
    }
   ],
   "source": [
    "print(csv)"
   ]
  },
  {
   "cell_type": "code",
   "execution_count": null,
   "id": "052ce840-374e-479d-bccc-07cddf0904d6",
   "metadata": {},
   "outputs": [],
   "source": []
  }
 ],
 "metadata": {
  "kernelspec": {
   "display_name": "Python 3 (ipykernel)",
   "language": "python",
   "name": "python3"
  },
  "language_info": {
   "codemirror_mode": {
    "name": "ipython",
    "version": 3
   },
   "file_extension": ".py",
   "mimetype": "text/x-python",
   "name": "python",
   "nbconvert_exporter": "python",
   "pygments_lexer": "ipython3",
   "version": "3.10.14"
  }
 },
 "nbformat": 4,
 "nbformat_minor": 5
}
